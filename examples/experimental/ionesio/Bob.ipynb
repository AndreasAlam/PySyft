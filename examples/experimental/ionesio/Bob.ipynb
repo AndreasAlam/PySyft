{
 "cells": [
  {
   "cell_type": "code",
   "execution_count": 2,
   "metadata": {},
   "outputs": [],
   "source": [
    "import syft as sy\n",
    "import torch as th\n",
    "import nest_asyncio\n",
    "from syft.grid.duet.om_signaling_client import register\n",
    "from syft.grid.duet.webrtc_duet import Duet\n",
    "\n",
    "nest_asyncio.apply()\n",
    "sy.VERBOSE = False"
   ]
  },
  {
   "cell_type": "markdown",
   "metadata": {},
   "source": [
    "## Create a Signaling Client\n",
    "This resource can be used / developed by different nodes (network, domain, device, vm) using different types of connection protocols (http, websocket, etc.)\n",
    "Thus, we abstracted the concept of signaling server, in order to make this process as generic as possible."
   ]
  },
  {
   "cell_type": "code",
   "execution_count": 3,
   "metadata": {},
   "outputs": [
    {
     "name": "stdout",
     "output_type": "stream",
     "text": [
      "Duet ID:  4da8caf99517148bfb3ef0fa03d0e2e7\n"
     ]
    }
   ],
   "source": [
    "signaling_client = register(url=\"http://localhost:5000\")"
   ]
  },
  {
   "cell_type": "markdown",
   "metadata": {},
   "source": [
    "## Create Our Domain\n",
    "Now, we need to create our domain which will work as a server, computing remote requests."
   ]
  },
  {
   "cell_type": "code",
   "execution_count": 4,
   "metadata": {},
   "outputs": [],
   "source": [
    "my_domain = sy.Domain(name=\"Bob\")"
   ]
  },
  {
   "cell_type": "markdown",
   "metadata": {},
   "source": [
    "## Define Target's Domain/Address\n",
    "PS: We don't need to create a domain to our target peer (just its address would be enough)."
   ]
  },
  {
   "cell_type": "markdown",
   "metadata": {},
   "source": [
    "## Start Duet Process\n",
    "Now, we can start our ICE protocol, if everything goes well, at the end of this process we'll be connected\n",
    "with the other side and ready for send/receive messages.\n",
    "\n",
    "**PS: It is important to pay attention to the \"offer\" parameter,if this parameter is the same for both peers, communication will not be established.**"
   ]
  },
  {
   "cell_type": "code",
   "execution_count": 5,
   "metadata": {},
   "outputs": [
    {
     "name": "stdout",
     "output_type": "stream",
     "text": [
      "> Using a running event loop\n"
     ]
    }
   ],
   "source": [
    "duet = Duet(node=my_domain,\n",
    "            target_id=\"93e5b9d21c57115bf5db397fc8862183\",\n",
    "            signaling_client=signaling_client,\n",
    "            offer=True)"
   ]
  },
  {
   "cell_type": "markdown",
   "metadata": {},
   "source": [
    "## Send/Receive Requests/Responses\n",
    "The great advantage of a full-duplex channel is: You can act as a server and as a client simultaneously."
   ]
  },
  {
   "cell_type": "code",
   "execution_count": 6,
   "metadata": {},
   "outputs": [
    {
     "name": "stdout",
     "output_type": "stream",
     "text": [
      "Send/Request remote operations\n",
      "My Result:  tensor([1024, 2048, 3072, 4096, 5120, 6144])\n"
     ]
    },
    {
     "name": "stderr",
     "output_type": "stream",
     "text": [
      "Exception in callback AsyncIOEventEmitter._emit_run.<locals>._callback(<Task finishe...age instead')>) at /home/ionesio/OpenMined/new_pr/venv/lib/python3.8/site-packages/pyee/_asyncio.py:55\n",
      "handle: <Handle AsyncIOEventEmitter._emit_run.<locals>._callback(<Task finishe...age instead')>) at /home/ionesio/OpenMined/new_pr/venv/lib/python3.8/site-packages/pyee/_asyncio.py:55>\n",
      "Traceback (most recent call last):\n",
      "  File \"/home/ionesio/OpenMined/new_pr/venv/lib/python3.8/site-packages/nest_asyncio.py\", line 190, in run\n",
      "    ctx.run(self._callback, *self._args)\n",
      "  File \"/home/ionesio/OpenMined/new_pr/venv/lib/python3.8/site-packages/pyee/_asyncio.py\", line 62, in _callback\n",
      "    self.emit('error', exc)\n",
      "  File \"/home/ionesio/OpenMined/new_pr/venv/lib/python3.8/site-packages/pyee/_base.py\", line 111, in emit\n",
      "    self._emit_handle_potential_error(event, args[0] if args else None)\n",
      "  File \"/home/ionesio/OpenMined/new_pr/venv/lib/python3.8/site-packages/pyee/_base.py\", line 83, in _emit_handle_potential_error\n",
      "    raise error\n",
      "  File \"/usr/lib/python3.8/asyncio/tasks.py\", line 280, in __step\n",
      "    result = coro.send(None)\n",
      "  File \"/home/ionesio/OpenMined/new_pr/venv/lib/python3.8/site-packages/syft/grid/connections/webrtc.py\", line 174, in on_message\n",
      "    await self.consumer(msg=message)\n",
      "  File \"/home/ionesio/OpenMined/new_pr/venv/lib/python3.8/site-packages/typeguard/__init__.py\", line 858, in async_wrapper\n",
      "    retval = await func(*args, **kwargs)\n",
      "  File \"/home/ionesio/OpenMined/new_pr/venv/lib/python3.8/site-packages/syft/grid/connections/webrtc.py\", line 306, in consumer\n",
      "    self.recv_eventual_msg_without_reply(msg=_msg)\n",
      "  File \"/home/ionesio/OpenMined/new_pr/venv/lib/python3.8/site-packages/syft/decorators/syft_decorator_impl.py\", line 32, in wrapper\n",
      "    return function(*args, **kwargs)\n",
      "  File \"/home/ionesio/OpenMined/new_pr/venv/lib/python3.8/site-packages/syft/decorators/typecheck.py\", line 110, in decorator\n",
      "    return typechecked(decorated)(*args, **kwargs)\n",
      "  File \"/home/ionesio/OpenMined/new_pr/venv/lib/python3.8/site-packages/typeguard/__init__.py\", line 839, in wrapper\n",
      "    check_argument_types(memo)\n",
      "  File \"/home/ionesio/OpenMined/new_pr/venv/lib/python3.8/site-packages/typeguard/__init__.py\", line 700, in check_argument_types\n",
      "    raise exc from None\n",
      "  File \"/home/ionesio/OpenMined/new_pr/venv/lib/python3.8/site-packages/typeguard/__init__.py\", line 698, in check_argument_types\n",
      "    check_type(description, value, expected_type, memo)\n",
      "  File \"/home/ionesio/OpenMined/new_pr/venv/lib/python3.8/site-packages/typeguard/__init__.py\", line 620, in check_type\n",
      "    raise TypeError(\n",
      "TypeError: type of argument \"msg\" must be syft.core.common.message.SignedEventualSyftMessageWithoutReply; got syft.grid.services.signaling_service.CloseConnectionMessage instead\n"
     ]
    }
   ],
   "source": [
    "print(\"Send/Request remote operations\")\n",
    "x = th.tensor([1,2,3,4,5,6])\n",
    "p_x = x.send(duet)\n",
    "for i in range(10):\n",
    "    p_x = p_x + p_x\n",
    "print(\"My Result: \", p_x.get())"
   ]
  },
  {
   "cell_type": "code",
   "execution_count": 7,
   "metadata": {},
   "outputs": [
    {
     "data": {
      "text/plain": [
       "set()"
      ]
     },
     "execution_count": 7,
     "metadata": {},
     "output_type": "execute_result"
    }
   ],
   "source": [
    "import asyncio\n",
    "asyncio.all_tasks()"
   ]
  }
 ],
 "metadata": {
  "kernelspec": {
   "display_name": "Python 3",
   "language": "python",
   "name": "python3"
  },
  "language_info": {
   "codemirror_mode": {
    "name": "ipython",
    "version": 3
   },
   "file_extension": ".py",
   "mimetype": "text/x-python",
   "name": "python",
   "nbconvert_exporter": "python",
   "pygments_lexer": "ipython3",
   "version": "3.8.2"
  }
 },
 "nbformat": 4,
 "nbformat_minor": 4
}
